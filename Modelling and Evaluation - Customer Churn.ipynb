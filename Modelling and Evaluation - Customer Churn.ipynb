{
 "cells": [
  {
   "cell_type": "code",
   "execution_count": 11,
   "metadata": {},
   "outputs": [],
   "source": [
    "import pandas as pd\n",
    "import numpy as np\n",
    "import matplotlib.pyplot as plt\n",
    "import seaborn as sns\n",
    "from sklearn.linear_model import LogisticRegression\n",
    "from sklearn import metrics\n",
    "from sklearn.model_selection import train_test_split"
   ]
  },
  {
   "cell_type": "code",
   "execution_count": 2,
   "metadata": {},
   "outputs": [],
   "source": [
    "final_train_data = pd.read_csv(r\"C:\\Users\\yomol\\final_train_data.csv\")"
   ]
  },
  {
   "cell_type": "code",
   "execution_count": 3,
   "metadata": {},
   "outputs": [
    {
     "data": {
      "text/html": [
       "<div>\n",
       "<style scoped>\n",
       "    .dataframe tbody tr th:only-of-type {\n",
       "        vertical-align: middle;\n",
       "    }\n",
       "\n",
       "    .dataframe tbody tr th {\n",
       "        vertical-align: top;\n",
       "    }\n",
       "\n",
       "    .dataframe thead th {\n",
       "        text-align: right;\n",
       "    }\n",
       "</style>\n",
       "<table border=\"1\" class=\"dataframe\">\n",
       "  <thead>\n",
       "    <tr style=\"text-align: right;\">\n",
       "      <th></th>\n",
       "      <th>Unnamed: 0</th>\n",
       "      <th>principal component 1</th>\n",
       "      <th>principal component 2</th>\n",
       "      <th>principal component 3</th>\n",
       "      <th>principal component 4</th>\n",
       "      <th>principal component 5</th>\n",
       "      <th>churn</th>\n",
       "    </tr>\n",
       "  </thead>\n",
       "  <tbody>\n",
       "    <tr>\n",
       "      <td>0</td>\n",
       "      <td>0</td>\n",
       "      <td>-0.144117</td>\n",
       "      <td>0.850912</td>\n",
       "      <td>0.746627</td>\n",
       "      <td>1.441546</td>\n",
       "      <td>-0.137847</td>\n",
       "      <td>0</td>\n",
       "    </tr>\n",
       "    <tr>\n",
       "      <td>1</td>\n",
       "      <td>1</td>\n",
       "      <td>0.561741</td>\n",
       "      <td>-1.968471</td>\n",
       "      <td>0.497515</td>\n",
       "      <td>0.974107</td>\n",
       "      <td>0.271696</td>\n",
       "      <td>1</td>\n",
       "    </tr>\n",
       "    <tr>\n",
       "      <td>2</td>\n",
       "      <td>2</td>\n",
       "      <td>-0.634370</td>\n",
       "      <td>0.133943</td>\n",
       "      <td>-0.291004</td>\n",
       "      <td>-0.638705</td>\n",
       "      <td>0.019668</td>\n",
       "      <td>0</td>\n",
       "    </tr>\n",
       "    <tr>\n",
       "      <td>3</td>\n",
       "      <td>3</td>\n",
       "      <td>-0.637598</td>\n",
       "      <td>0.132051</td>\n",
       "      <td>-0.291998</td>\n",
       "      <td>-0.637530</td>\n",
       "      <td>0.020155</td>\n",
       "      <td>0</td>\n",
       "    </tr>\n",
       "    <tr>\n",
       "      <td>4</td>\n",
       "      <td>4</td>\n",
       "      <td>-0.636782</td>\n",
       "      <td>0.132529</td>\n",
       "      <td>-0.291747</td>\n",
       "      <td>-0.637827</td>\n",
       "      <td>0.020032</td>\n",
       "      <td>0</td>\n",
       "    </tr>\n",
       "    <tr>\n",
       "      <td>...</td>\n",
       "      <td>...</td>\n",
       "      <td>...</td>\n",
       "      <td>...</td>\n",
       "      <td>...</td>\n",
       "      <td>...</td>\n",
       "      <td>...</td>\n",
       "      <td>...</td>\n",
       "    </tr>\n",
       "    <tr>\n",
       "      <td>16091</td>\n",
       "      <td>16091</td>\n",
       "      <td>0.576346</td>\n",
       "      <td>-1.853321</td>\n",
       "      <td>-0.007782</td>\n",
       "      <td>0.675284</td>\n",
       "      <td>0.263965</td>\n",
       "      <td>0</td>\n",
       "    </tr>\n",
       "    <tr>\n",
       "      <td>16092</td>\n",
       "      <td>16092</td>\n",
       "      <td>-0.645676</td>\n",
       "      <td>-0.134718</td>\n",
       "      <td>1.233958</td>\n",
       "      <td>0.256451</td>\n",
       "      <td>-0.052476</td>\n",
       "      <td>1</td>\n",
       "    </tr>\n",
       "    <tr>\n",
       "      <td>16093</td>\n",
       "      <td>16093</td>\n",
       "      <td>-0.643249</td>\n",
       "      <td>-0.039660</td>\n",
       "      <td>0.719385</td>\n",
       "      <td>-0.029007</td>\n",
       "      <td>-0.028282</td>\n",
       "      <td>1</td>\n",
       "    </tr>\n",
       "    <tr>\n",
       "      <td>16094</td>\n",
       "      <td>16094</td>\n",
       "      <td>-0.656336</td>\n",
       "      <td>-0.154479</td>\n",
       "      <td>1.243214</td>\n",
       "      <td>0.233612</td>\n",
       "      <td>-0.050689</td>\n",
       "      <td>0</td>\n",
       "    </tr>\n",
       "    <tr>\n",
       "      <td>16095</td>\n",
       "      <td>16095</td>\n",
       "      <td>-0.631178</td>\n",
       "      <td>0.135814</td>\n",
       "      <td>-0.290020</td>\n",
       "      <td>-0.639867</td>\n",
       "      <td>0.019186</td>\n",
       "      <td>0</td>\n",
       "    </tr>\n",
       "  </tbody>\n",
       "</table>\n",
       "<p>16096 rows × 7 columns</p>\n",
       "</div>"
      ],
      "text/plain": [
       "       Unnamed: 0  principal component 1  principal component 2  \\\n",
       "0               0              -0.144117               0.850912   \n",
       "1               1               0.561741              -1.968471   \n",
       "2               2              -0.634370               0.133943   \n",
       "3               3              -0.637598               0.132051   \n",
       "4               4              -0.636782               0.132529   \n",
       "...           ...                    ...                    ...   \n",
       "16091       16091               0.576346              -1.853321   \n",
       "16092       16092              -0.645676              -0.134718   \n",
       "16093       16093              -0.643249              -0.039660   \n",
       "16094       16094              -0.656336              -0.154479   \n",
       "16095       16095              -0.631178               0.135814   \n",
       "\n",
       "       principal component 3  principal component 4  principal component 5  \\\n",
       "0                   0.746627               1.441546              -0.137847   \n",
       "1                   0.497515               0.974107               0.271696   \n",
       "2                  -0.291004              -0.638705               0.019668   \n",
       "3                  -0.291998              -0.637530               0.020155   \n",
       "4                  -0.291747              -0.637827               0.020032   \n",
       "...                      ...                    ...                    ...   \n",
       "16091              -0.007782               0.675284               0.263965   \n",
       "16092               1.233958               0.256451              -0.052476   \n",
       "16093               0.719385              -0.029007              -0.028282   \n",
       "16094               1.243214               0.233612              -0.050689   \n",
       "16095              -0.290020              -0.639867               0.019186   \n",
       "\n",
       "       churn  \n",
       "0          0  \n",
       "1          1  \n",
       "2          0  \n",
       "3          0  \n",
       "4          0  \n",
       "...      ...  \n",
       "16091      0  \n",
       "16092      1  \n",
       "16093      1  \n",
       "16094      0  \n",
       "16095      0  \n",
       "\n",
       "[16096 rows x 7 columns]"
      ]
     },
     "execution_count": 3,
     "metadata": {},
     "output_type": "execute_result"
    }
   ],
   "source": [
    "final_train_data"
   ]
  },
  {
   "cell_type": "code",
   "execution_count": 4,
   "metadata": {},
   "outputs": [],
   "source": [
    "del final_train_data[\"Unnamed: 0\"]"
   ]
  },
  {
   "cell_type": "code",
   "execution_count": 5,
   "metadata": {},
   "outputs": [
    {
     "data": {
      "text/html": [
       "<div>\n",
       "<style scoped>\n",
       "    .dataframe tbody tr th:only-of-type {\n",
       "        vertical-align: middle;\n",
       "    }\n",
       "\n",
       "    .dataframe tbody tr th {\n",
       "        vertical-align: top;\n",
       "    }\n",
       "\n",
       "    .dataframe thead th {\n",
       "        text-align: right;\n",
       "    }\n",
       "</style>\n",
       "<table border=\"1\" class=\"dataframe\">\n",
       "  <thead>\n",
       "    <tr style=\"text-align: right;\">\n",
       "      <th></th>\n",
       "      <th>principal component 1</th>\n",
       "      <th>principal component 2</th>\n",
       "      <th>principal component 3</th>\n",
       "      <th>principal component 4</th>\n",
       "      <th>principal component 5</th>\n",
       "      <th>churn</th>\n",
       "    </tr>\n",
       "  </thead>\n",
       "  <tbody>\n",
       "    <tr>\n",
       "      <td>0</td>\n",
       "      <td>-0.144117</td>\n",
       "      <td>0.850912</td>\n",
       "      <td>0.746627</td>\n",
       "      <td>1.441546</td>\n",
       "      <td>-0.137847</td>\n",
       "      <td>0</td>\n",
       "    </tr>\n",
       "    <tr>\n",
       "      <td>1</td>\n",
       "      <td>0.561741</td>\n",
       "      <td>-1.968471</td>\n",
       "      <td>0.497515</td>\n",
       "      <td>0.974107</td>\n",
       "      <td>0.271696</td>\n",
       "      <td>1</td>\n",
       "    </tr>\n",
       "    <tr>\n",
       "      <td>2</td>\n",
       "      <td>-0.634370</td>\n",
       "      <td>0.133943</td>\n",
       "      <td>-0.291004</td>\n",
       "      <td>-0.638705</td>\n",
       "      <td>0.019668</td>\n",
       "      <td>0</td>\n",
       "    </tr>\n",
       "    <tr>\n",
       "      <td>3</td>\n",
       "      <td>-0.637598</td>\n",
       "      <td>0.132051</td>\n",
       "      <td>-0.291998</td>\n",
       "      <td>-0.637530</td>\n",
       "      <td>0.020155</td>\n",
       "      <td>0</td>\n",
       "    </tr>\n",
       "    <tr>\n",
       "      <td>4</td>\n",
       "      <td>-0.636782</td>\n",
       "      <td>0.132529</td>\n",
       "      <td>-0.291747</td>\n",
       "      <td>-0.637827</td>\n",
       "      <td>0.020032</td>\n",
       "      <td>0</td>\n",
       "    </tr>\n",
       "    <tr>\n",
       "      <td>...</td>\n",
       "      <td>...</td>\n",
       "      <td>...</td>\n",
       "      <td>...</td>\n",
       "      <td>...</td>\n",
       "      <td>...</td>\n",
       "      <td>...</td>\n",
       "    </tr>\n",
       "    <tr>\n",
       "      <td>16091</td>\n",
       "      <td>0.576346</td>\n",
       "      <td>-1.853321</td>\n",
       "      <td>-0.007782</td>\n",
       "      <td>0.675284</td>\n",
       "      <td>0.263965</td>\n",
       "      <td>0</td>\n",
       "    </tr>\n",
       "    <tr>\n",
       "      <td>16092</td>\n",
       "      <td>-0.645676</td>\n",
       "      <td>-0.134718</td>\n",
       "      <td>1.233958</td>\n",
       "      <td>0.256451</td>\n",
       "      <td>-0.052476</td>\n",
       "      <td>1</td>\n",
       "    </tr>\n",
       "    <tr>\n",
       "      <td>16093</td>\n",
       "      <td>-0.643249</td>\n",
       "      <td>-0.039660</td>\n",
       "      <td>0.719385</td>\n",
       "      <td>-0.029007</td>\n",
       "      <td>-0.028282</td>\n",
       "      <td>1</td>\n",
       "    </tr>\n",
       "    <tr>\n",
       "      <td>16094</td>\n",
       "      <td>-0.656336</td>\n",
       "      <td>-0.154479</td>\n",
       "      <td>1.243214</td>\n",
       "      <td>0.233612</td>\n",
       "      <td>-0.050689</td>\n",
       "      <td>0</td>\n",
       "    </tr>\n",
       "    <tr>\n",
       "      <td>16095</td>\n",
       "      <td>-0.631178</td>\n",
       "      <td>0.135814</td>\n",
       "      <td>-0.290020</td>\n",
       "      <td>-0.639867</td>\n",
       "      <td>0.019186</td>\n",
       "      <td>0</td>\n",
       "    </tr>\n",
       "  </tbody>\n",
       "</table>\n",
       "<p>16096 rows × 6 columns</p>\n",
       "</div>"
      ],
      "text/plain": [
       "       principal component 1  principal component 2  principal component 3  \\\n",
       "0                  -0.144117               0.850912               0.746627   \n",
       "1                   0.561741              -1.968471               0.497515   \n",
       "2                  -0.634370               0.133943              -0.291004   \n",
       "3                  -0.637598               0.132051              -0.291998   \n",
       "4                  -0.636782               0.132529              -0.291747   \n",
       "...                      ...                    ...                    ...   \n",
       "16091               0.576346              -1.853321              -0.007782   \n",
       "16092              -0.645676              -0.134718               1.233958   \n",
       "16093              -0.643249              -0.039660               0.719385   \n",
       "16094              -0.656336              -0.154479               1.243214   \n",
       "16095              -0.631178               0.135814              -0.290020   \n",
       "\n",
       "       principal component 4  principal component 5  churn  \n",
       "0                   1.441546              -0.137847      0  \n",
       "1                   0.974107               0.271696      1  \n",
       "2                  -0.638705               0.019668      0  \n",
       "3                  -0.637530               0.020155      0  \n",
       "4                  -0.637827               0.020032      0  \n",
       "...                      ...                    ...    ...  \n",
       "16091               0.675284               0.263965      0  \n",
       "16092               0.256451              -0.052476      1  \n",
       "16093              -0.029007              -0.028282      1  \n",
       "16094               0.233612              -0.050689      0  \n",
       "16095              -0.639867               0.019186      0  \n",
       "\n",
       "[16096 rows x 6 columns]"
      ]
     },
     "execution_count": 5,
     "metadata": {},
     "output_type": "execute_result"
    }
   ],
   "source": [
    "final_train_data"
   ]
  },
  {
   "cell_type": "markdown",
   "metadata": {},
   "source": [
    "##### LOGISTIC REGRESSION MODELLING"
   ]
  },
  {
   "cell_type": "markdown",
   "metadata": {},
   "source": [
    "Arranging the data to independent and target variables. "
   ]
  },
  {
   "cell_type": "code",
   "execution_count": 9,
   "metadata": {},
   "outputs": [],
   "source": [
    "X = final_train_data[[\"principal component 1\",\"principal component 2\",\"principal component 3\",\"principal component 4\",\"principal component 5\"]]\n",
    "y = final_train_data[\"churn\"]"
   ]
  },
  {
   "cell_type": "markdown",
   "metadata": {},
   "source": [
    "Splitting the data train and test data"
   ]
  },
  {
   "cell_type": "code",
   "execution_count": 12,
   "metadata": {},
   "outputs": [
    {
     "name": "stderr",
     "output_type": "stream",
     "text": [
      "C:\\Users\\yomol\\Anaconda3\\lib\\site-packages\\sklearn\\linear_model\\logistic.py:432: FutureWarning: Default solver will be changed to 'lbfgs' in 0.22. Specify a solver to silence this warning.\n",
      "  FutureWarning)\n"
     ]
    },
    {
     "data": {
      "text/plain": [
       "LogisticRegression(C=1.0, class_weight=None, dual=False, fit_intercept=True,\n",
       "                   intercept_scaling=1, l1_ratio=None, max_iter=100,\n",
       "                   multi_class='warn', n_jobs=None, penalty='l2',\n",
       "                   random_state=None, solver='warn', tol=0.0001, verbose=0,\n",
       "                   warm_start=False)"
      ]
     },
     "execution_count": 12,
     "metadata": {},
     "output_type": "execute_result"
    }
   ],
   "source": [
    "X_train, X_test, y_train, y_test = train_test_split(X, y, test_size=0.3, random_state=0)\n",
    "logreg = LogisticRegression()\n",
    "logreg.fit(X_train, y_train)"
   ]
  },
  {
   "cell_type": "markdown",
   "metadata": {},
   "source": [
    "Prediction"
   ]
  },
  {
   "cell_type": "code",
   "execution_count": 13,
   "metadata": {},
   "outputs": [
    {
     "name": "stdout",
     "output_type": "stream",
     "text": [
      "Accuracy of logistic regression classifier on test set: 0.89\n"
     ]
    }
   ],
   "source": [
    "y_pred = logreg.predict(X_test)\n",
    "print('Accuracy of logistic regression classifier on test set: {:.2f}'.format(logreg.score(X_test, y_test)))"
   ]
  },
  {
   "cell_type": "markdown",
   "metadata": {},
   "source": [
    "##### Model Evaluation"
   ]
  },
  {
   "cell_type": "markdown",
   "metadata": {},
   "source": [
    "We need a confussion matrix to evalute the model."
   ]
  },
  {
   "cell_type": "code",
   "execution_count": 14,
   "metadata": {},
   "outputs": [
    {
     "name": "stdout",
     "output_type": "stream",
     "text": [
      "[[4318    0]\n",
      " [ 511    0]]\n"
     ]
    }
   ],
   "source": [
    "from sklearn.metrics import confusion_matrix\n",
    "confusion_matrix = confusion_matrix(y_test, y_pred)\n",
    "print(confusion_matrix)"
   ]
  },
  {
   "cell_type": "markdown",
   "metadata": {},
   "source": [
    "Classification report"
   ]
  },
  {
   "cell_type": "code",
   "execution_count": 15,
   "metadata": {},
   "outputs": [
    {
     "name": "stdout",
     "output_type": "stream",
     "text": [
      "              precision    recall  f1-score   support\n",
      "\n",
      "           0       0.89      1.00      0.94      4318\n",
      "           1       0.00      0.00      0.00       511\n",
      "\n",
      "    accuracy                           0.89      4829\n",
      "   macro avg       0.45      0.50      0.47      4829\n",
      "weighted avg       0.80      0.89      0.84      4829\n",
      "\n"
     ]
    },
    {
     "name": "stderr",
     "output_type": "stream",
     "text": [
      "C:\\Users\\yomol\\Anaconda3\\lib\\site-packages\\sklearn\\metrics\\classification.py:1437: UndefinedMetricWarning: Precision and F-score are ill-defined and being set to 0.0 in labels with no predicted samples.\n",
      "  'precision', 'predicted', average, warn_for)\n"
     ]
    }
   ],
   "source": [
    "from sklearn.metrics import classification_report\n",
    "print(classification_report(y_test, y_pred))"
   ]
  },
  {
   "cell_type": "markdown",
   "metadata": {},
   "source": [
    "ROC Curve"
   ]
  },
  {
   "cell_type": "code",
   "execution_count": 16,
   "metadata": {},
   "outputs": [
    {
     "data": {
      "image/png": "[encoded data removed]",
      "text/plain": [
       "<Figure size 432x288 with 1 Axes>"
      ]
     },
     "metadata": {
      "needs_background": "light"
     },
     "output_type": "display_data"
    }
   ],
   "source": [
    "from sklearn.metrics import roc_auc_score\n",
    "from sklearn.metrics import roc_curve\n",
    "logit_roc_auc = roc_auc_score(y_test, logreg.predict(X_test))\n",
    "fpr, tpr, thresholds = roc_curve(y_test, logreg.predict_proba(X_test)[:,1])\n",
    "plt.figure()\n",
    "plt.plot(fpr, tpr, label='Logistic Regression (area = %0.2f)' % logit_roc_auc)\n",
    "plt.plot([0, 1], [0, 1],'r--')\n",
    "plt.xlim([0.0, 1.0])\n",
    "plt.ylim([0.0, 1.05])\n",
    "plt.xlabel('False Positive Rate')\n",
    "plt.ylabel('True Positive Rate')\n",
    "plt.title('Receiver operating characteristic')\n",
    "plt.legend(loc=\"lower right\")\n",
    "plt.savefig('Log_ROC')\n",
    "plt.show()"
   ]
  }
 ],
 "metadata": {
  "kernelspec": {
   "display_name": "Python 3",
   "language": "python",
   "name": "python3"
  },
  "language_info": {
   "codemirror_mode": {
    "name": "ipython",
    "version": 3
   },
   "file_extension": ".py",
   "mimetype": "text/x-python",
   "name": "python",
   "nbconvert_exporter": "python",
   "pygments_lexer": "ipython3",
   "version": "3.7.4"
  }
 },
 "nbformat": 4,
 "nbformat_minor": 2
}
